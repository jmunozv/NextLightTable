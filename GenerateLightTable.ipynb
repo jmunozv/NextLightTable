{
 "cells": [
  {
   "cell_type": "markdown",
   "metadata": {},
   "source": [
    "<p style=\"font-family: Arial; font-size:3.75em;color:purple; font-style:bold\"><br>\n",
    "LIGHT TABLE - GENERATION</p><br>"
   ]
  },
  {
   "cell_type": "markdown",
   "metadata": {},
   "source": [
    "This notebook generate Light Tables based on nexus full-simulations of light, generating a DataFrame that should be used by DetSim."
   ]
  },
  {
   "cell_type": "markdown",
   "metadata": {},
   "source": [
    "TAREAS POR IMPLEMENTAR:\n",
    "\n",
    "* Descripcion de lo que hace cada una de las funciones y sus parametros\n",
    "* Leer el setup de un fichero de configuracion\n",
    "* Anyadir tests\n",
    "* Posibilidad de muestrear los volumenes / areas con un patron asimetrico (mas denso a radios altos, para reflejar mejor los cambios que se producen cerca de los bordes).\n",
    "* Hacer el setting de IC y de NEXUS desde las funciones, no desde el terminal\n",
    "* Anyadir tests de que las simulaciones han corrido bien en las colas."
   ]
  },
  {
   "cell_type": "code",
   "execution_count": 1,
   "metadata": {},
   "outputs": [
    {
     "data": {
      "text/html": [
       "<style>body {\n",
       "    margin: 0;\n",
       "    font-family: Helvetica;\n",
       "}\n",
       "table.dataframe {\n",
       "    border-collapse: collapse;\n",
       "    border: none;\n",
       "}\n",
       "table.dataframe tr {\n",
       "    border: none;\n",
       "}\n",
       "table.dataframe td, table.dataframe th {\n",
       "    margin: 0;\n",
       "    border: 1px solid white;\n",
       "    padding-left: 0.25em;\n",
       "    padding-right: 0.25em;\n",
       "}\n",
       "table.dataframe th:not(:empty) {\n",
       "    background-color: #fec;\n",
       "    text-align: left;\n",
       "    font-weight: normal;\n",
       "}\n",
       "table.dataframe tr:nth-child(2) th:empty {\n",
       "    border-left: none;\n",
       "    border-right: 1px dashed #888;\n",
       "}\n",
       "table.dataframe td {\n",
       "    border: 2px solid #ccf;\n",
       "    background-color: #f4f4ff;\n",
       "}\n",
       "h3 {\n",
       "    color: white;\n",
       "    background-color: black;\n",
       "    padding: 0.5em;\n",
       "}\n",
       "</style>"
      ],
      "text/plain": [
       "<IPython.core.display.HTML object>"
      ]
     },
     "execution_count": 1,
     "metadata": {},
     "output_type": "execute_result"
    }
   ],
   "source": [
    "from IPython.core.display import HTML\n",
    "css = open('css/style-table.css').read() + open('css/style-notebook.css').read()\n",
    "HTML('<style>{}</style>'.format(css))"
   ]
  },
  {
   "cell_type": "code",
   "execution_count": 92,
   "metadata": {},
   "outputs": [],
   "source": [
    "# General importings\n",
    "import os\n",
    "import pandas as pd\n",
    "\n",
    "from math   import ceil\n",
    "\n",
    "# Specific IC stuff\n",
    "import invisible_cities.core.system_of_units  as units\n",
    "\n",
    "# Light Table stuff\n",
    "from sim_functions       import make_init_file\n",
    "from sim_functions       import make_config_file\n",
    "from sim_functions       import run_sims\n",
    "from sim_functions       import get_num_photons\n",
    "\n",
    "from table_functions     import get_table_positions\n",
    "from table_functions     import get_working_paths\n",
    "from table_functions     import build_table\n",
    "from table_functions     import get_fnames\n",
    "from table_functions     import get_table_fname\n",
    "from table_functions     import get_detector_dimensions"
   ]
  },
  {
   "cell_type": "code",
   "execution_count": 3,
   "metadata": {},
   "outputs": [],
   "source": [
    "%load_ext autoreload\n",
    "%autoreload 2"
   ]
  },
  {
   "cell_type": "code",
   "execution_count": null,
   "metadata": {},
   "outputs": [],
   "source": []
  },
  {
   "cell_type": "markdown",
   "metadata": {},
   "source": [
    "# GENERAL DATA"
   ]
  },
  {
   "cell_type": "code",
   "execution_count": 4,
   "metadata": {},
   "outputs": [],
   "source": [
    "VERBOSITY = True"
   ]
  },
  {
   "cell_type": "code",
   "execution_count": 5,
   "metadata": {},
   "outputs": [],
   "source": [
    "MAX_PHOTONS_PER_EVT = 1000000"
   ]
  },
  {
   "cell_type": "code",
   "execution_count": 6,
   "metadata": {},
   "outputs": [],
   "source": [
    "# Valid options\n",
    "VALID_DETECTORS    = [\"NEXT_NEW\", \"NEXT100\", \"NEXT_FLEX\"]\n",
    "VALID_TABLE_TYPES  = [\"energy\", \"tracking\"]\n",
    "VALID_SIGNAL_TYPES = [\"S1\", \"S2\"]"
   ]
  },
  {
   "cell_type": "code",
   "execution_count": null,
   "metadata": {},
   "outputs": [],
   "source": []
  },
  {
   "cell_type": "markdown",
   "metadata": {},
   "source": [
    "# SETUP DATA"
   ]
  },
  {
   "cell_type": "code",
   "execution_count": 76,
   "metadata": {},
   "outputs": [],
   "source": [
    "RUN_SIMULATIONS = False\n",
    "GENERATE_TABLE  = False"
   ]
  },
  {
   "cell_type": "code",
   "execution_count": 77,
   "metadata": {},
   "outputs": [],
   "source": [
    "det_name = \"NEXT_NEW\"\n",
    "assert det_name in VALID_DETECTORS, \"Wrong Geometry\""
   ]
  },
  {
   "cell_type": "code",
   "execution_count": 78,
   "metadata": {},
   "outputs": [],
   "source": [
    "table_type = \"energy\"\n",
    "assert table_type in VALID_TABLE_TYPES, \"Wrong Table Type\""
   ]
  },
  {
   "cell_type": "code",
   "execution_count": 79,
   "metadata": {},
   "outputs": [],
   "source": [
    "signal_type = \"S2\"\n",
    "assert signal_type in VALID_SIGNAL_TYPES, \"Wrong Signal Type\""
   ]
  },
  {
   "cell_type": "code",
   "execution_count": 80,
   "metadata": {},
   "outputs": [],
   "source": [
    "# Typically PmtR11410 for energy tables and SiPM for tracking ones\n",
    "sensor_name = \"PmtR11410\"\n",
    "#sensor_name = \"SiPM\"\n",
    "#sensor_name = \"TP_SiPM\""
   ]
  },
  {
   "cell_type": "code",
   "execution_count": 81,
   "metadata": {},
   "outputs": [],
   "source": [
    "pitch = (100.0 * units.mm, 100.0 * units.mm, 200.0 * units.mm)\n",
    "#pitch = (20.0 * units.mm, 20.0 * units.mm, 20.0 * units.mm)\n",
    "#pitch = (1.0 * units.mm, 1.0 * units.mm, 1.0 * units.mm)\n",
    "\n",
    "if((table_type == \"tracking\") and (pitch[2] > 2.0 * units.mm)):\n",
    "    print(\"\\n#### WARNING #### - Pitch Z unusually big.\")"
   ]
  },
  {
   "cell_type": "code",
   "execution_count": 82,
   "metadata": {},
   "outputs": [],
   "source": [
    "photons_per_point = 100000"
   ]
  },
  {
   "cell_type": "code",
   "execution_count": 83,
   "metadata": {},
   "outputs": [],
   "source": [
    "points_per_job = 1"
   ]
  },
  {
   "cell_type": "code",
   "execution_count": null,
   "metadata": {},
   "outputs": [],
   "source": []
  },
  {
   "cell_type": "markdown",
   "metadata": {},
   "source": [
    "#### Preliminary job"
   ]
  },
  {
   "cell_type": "code",
   "execution_count": 84,
   "metadata": {},
   "outputs": [],
   "source": [
    "### Getting (photons / point) & (events / point) & (photons / event)\n",
    "events_per_point  = 1\n",
    "photons_per_event = photons_per_point\n",
    "\n",
    "if photons_per_event > MAX_PHOTONS_PER_EVT:\n",
    "    events_per_point  = ceil(photons_per_point / MAX_PHOTONS_PER_EVT)\n",
    "    photons_per_event = MAX_PHOTONS_PER_EVT\n",
    "    photons_per_point = events_per_point * photons_per_event"
   ]
  },
  {
   "cell_type": "code",
   "execution_count": 85,
   "metadata": {},
   "outputs": [],
   "source": [
    "### Getting Table positions\n",
    "table_positions = get_table_positions(det_name, table_type, signal_type, pitch)\n",
    "num_points = len(table_positions)"
   ]
  },
  {
   "cell_type": "code",
   "execution_count": 86,
   "metadata": {},
   "outputs": [],
   "source": [
    "### Getting Num of jobs\n",
    "num_jobs = ceil(num_points / points_per_job)\n",
    "photons_per_job = points_per_job * photons_per_point"
   ]
  },
  {
   "cell_type": "code",
   "execution_count": 87,
   "metadata": {},
   "outputs": [],
   "source": [
    "### Getting PATHS\n",
    "config_path, log_path, dst_path, table_path = get_working_paths(det_name)"
   ]
  },
  {
   "cell_type": "code",
   "execution_count": 88,
   "metadata": {},
   "outputs": [
    {
     "name": "stdout",
     "output_type": "stream",
     "text": [
      "\n",
      "***** Generating NEXT_NEW Light Table  *****\n",
      "\n",
      "*** Type: energy  -  Signal: S2  -  Sensor: PmtR11410\n",
      "*** Pitch: (100.0, 100.0, 200.0) mm\n",
      "*** Photons/Point = 1.0e+05 splitted into ...\n",
      "***    1 Events/Point x 1.0e+05 Photons/Event\n",
      "*** Total number of points:     11\n",
      "*** Total number of jobs:        3\n",
      "*** Photons/Job: 500000  ->  0.833 minutes/job (@ Harvard)\n",
      "*** Config PATH: /Users/Javi/Development/NextLightTable/data/NEXT_NEW/config/\n",
      "*** Log    PATH: /Users/Javi/Development/NextLightTable/data/NEXT_NEW/log/\n",
      "*** Dst    PATH: /Users/Javi/Development/NextLightTable/data/NEXT_NEW/dst/\n",
      "*** Table  PATH: /Users/Javi/Development/NextLightTable/data/NEXT_NEW/table/\n"
     ]
    }
   ],
   "source": [
    "### Verbosity\n",
    "if VERBOSITY:\n",
    "    print(f\"\\n***** Generating {det_name} Light Table  *****\\n\")\n",
    "    print(f\"*** Type: {table_type}  -  Signal: {signal_type}  -  Sensor: {sensor_name}\")\n",
    "    print(f\"*** Pitch: {pitch} mm\")\n",
    "    print(f\"*** Photons/Point = {photons_per_point:.1e} splitted into ...\")\n",
    "    print(f\"***    {events_per_point} Events/Point x {photons_per_event:.1e} Photons/Event\")\n",
    "    print(f\"*** Total number of points: {num_points:6}\")\n",
    "    #print(table_positions)\n",
    "    print(f\"*** Total number of jobs:   {num_jobs:6}\")\n",
    "    print(f\"*** Photons/Job: {photons_per_job}  ->  {photons_per_job/60.e4:.3} minutes/job (@ Harvard)\")\n",
    "    print(f\"*** Config PATH: {config_path}\")\n",
    "    print(f\"*** Log    PATH: {log_path}\")\n",
    "    print(f\"*** Dst    PATH: {dst_path}\")\n",
    "    print(f\"*** Table  PATH: {table_path}\")"
   ]
  },
  {
   "cell_type": "code",
   "execution_count": 89,
   "metadata": {},
   "outputs": [],
   "source": [
    "### Checks\n",
    "assert num_jobs < 10000, \"Number of jobs too high\"\n",
    "assert (photons_per_job/1.e4) < 12*60*60, \"Jobs larger than half day\""
   ]
  },
  {
   "cell_type": "code",
   "execution_count": null,
   "metadata": {},
   "outputs": [],
   "source": []
  },
  {
   "cell_type": "markdown",
   "metadata": {},
   "source": [
    "# LIGHT SIMULATIONS"
   ]
  },
  {
   "cell_type": "code",
   "execution_count": 91,
   "metadata": {},
   "outputs": [
    {
     "name": "stdout",
     "output_type": "stream",
     "text": [
      "\n",
      "*** Running 11 Light Simulations ...\n",
      "\n",
      "* Position (-108, -108, 0) - 100000 photons\n",
      "* Position (-108, -8, 0) - 100000 photons\n",
      "  Simulation run previously with less events, so re-running ...\n",
      "* Position (-108, 92, 0) - 100000 photons\n",
      "  Simulation run previously with less events, so re-running ...\n",
      "* Position (-8, -108, 0) - 100000 photons\n",
      "  Simulation run previously with less events, so re-running ...\n",
      "* Position (-8, -8, 0) - 100000 photons\n",
      "  Simulation run previously, so skipping ...\n",
      "* Submitting job 0 with 4 points\n",
      "\n"
     ]
    },
    {
     "ename": "AssertionError",
     "evalue": "When running locally, points_per_job MUST BE 1",
     "output_type": "error",
     "traceback": [
      "\u001b[0;31m---------------------------------------------------------------------------\u001b[0m",
      "\u001b[0;31mAssertionError\u001b[0m                            Traceback (most recent call last)",
      "\u001b[0;32m<ipython-input-91-4b55703da917>\u001b[0m in \u001b[0;36m<module>\u001b[0;34m\u001b[0m\n\u001b[1;32m     39\u001b[0m         \u001b[0;32mif\u001b[0m\u001b[0;34m(\u001b[0m\u001b[0mlen\u001b[0m\u001b[0;34m(\u001b[0m\u001b[0minit_fnames\u001b[0m\u001b[0;34m)\u001b[0m\u001b[0;34m)\u001b[0m\u001b[0;34m:\u001b[0m\u001b[0;34m\u001b[0m\u001b[0;34m\u001b[0m\u001b[0m\n\u001b[1;32m     40\u001b[0m             \u001b[0mprint\u001b[0m\u001b[0;34m(\u001b[0m\u001b[0;34mf\"* Submitting job {job_id} with {len(init_fnames)} points\\n\"\u001b[0m\u001b[0;34m)\u001b[0m\u001b[0;34m\u001b[0m\u001b[0;34m\u001b[0m\u001b[0m\n\u001b[0;32m---> 41\u001b[0;31m             \u001b[0mrun_sims\u001b[0m\u001b[0;34m(\u001b[0m\u001b[0minit_fnames\u001b[0m\u001b[0;34m,\u001b[0m \u001b[0mlog_fnames\u001b[0m\u001b[0;34m,\u001b[0m \u001b[0mevents_per_point\u001b[0m\u001b[0;34m)\u001b[0m\u001b[0;34m\u001b[0m\u001b[0;34m\u001b[0m\u001b[0m\n\u001b[0m\u001b[1;32m     42\u001b[0m         \u001b[0;32melse\u001b[0m\u001b[0;34m:\u001b[0m\u001b[0;34m\u001b[0m\u001b[0;34m\u001b[0m\u001b[0m\n\u001b[1;32m     43\u001b[0m             \u001b[0mprint\u001b[0m\u001b[0;34m(\u001b[0m\u001b[0;34mf\"* Job {job_id} with no points, so skipped\\n\"\u001b[0m\u001b[0;34m)\u001b[0m\u001b[0;34m\u001b[0m\u001b[0;34m\u001b[0m\u001b[0m\n",
      "\u001b[0;32m~/Development/NextLightTable/sim_functions.py\u001b[0m in \u001b[0;36mrun_sims\u001b[0;34m(init_fnames, log_fnames, num_evts)\u001b[0m\n\u001b[1;32m    178\u001b[0m     \u001b[0;32mif\u001b[0m \u001b[0mhost\u001b[0m \u001b[0;34m==\u001b[0m \u001b[0;34m\"local\"\u001b[0m\u001b[0;34m:\u001b[0m\u001b[0;34m\u001b[0m\u001b[0;34m\u001b[0m\u001b[0m\n\u001b[1;32m    179\u001b[0m         \u001b[0;31m# Locally only 1 point per job, so check\u001b[0m\u001b[0;34m\u001b[0m\u001b[0;34m\u001b[0m\u001b[0;34m\u001b[0m\u001b[0m\n\u001b[0;32m--> 180\u001b[0;31m         \u001b[0;32massert\u001b[0m \u001b[0mlen\u001b[0m\u001b[0;34m(\u001b[0m\u001b[0minit_fnames\u001b[0m\u001b[0;34m)\u001b[0m \u001b[0;34m==\u001b[0m \u001b[0;36m1\u001b[0m\u001b[0;34m,\u001b[0m \u001b[0;34m\"When running locally, points_per_job MUST BE 1\"\u001b[0m\u001b[0;34m\u001b[0m\u001b[0;34m\u001b[0m\u001b[0m\n\u001b[0m\u001b[1;32m    181\u001b[0m \u001b[0;34m\u001b[0m\u001b[0m\n\u001b[1;32m    182\u001b[0m         \u001b[0;31m#exe_path = \"/Users/Javi/Development/nexus/bin/\"\u001b[0m\u001b[0;34m\u001b[0m\u001b[0;34m\u001b[0m\u001b[0;34m\u001b[0m\u001b[0m\n",
      "\u001b[0;31mAssertionError\u001b[0m: When running locally, points_per_job MUST BE 1"
     ]
    }
   ],
   "source": [
    "if RUN_SIMULATIONS:\n",
    "\n",
    "    print(f\"\\n*** Running {num_points} Light Simulations ...\\n\")\n",
    "\n",
    "    for job_id in range(num_jobs):\n",
    "        \n",
    "        # fnames to be run in current job\n",
    "        init_fnames = []\n",
    "        log_fnames  = []\n",
    "        \n",
    "        # Identifing current job positions\n",
    "        ini_pos_id = job_id * points_per_job\n",
    "        for pos in table_positions[ini_pos_id : ini_pos_id + points_per_job]:\n",
    "            print(f\"* Position {pos} - {photons_per_point} photons\")\n",
    "            \n",
    "            # file names\n",
    "            init_fname, config_fname, log_fname, dst_fname = get_fnames(det_name ,pos)\n",
    "\n",
    "            # Check if the sim is already run with the correct num_photons\n",
    "            if os.path.isfile(dst_fname + '.h5'):\n",
    "                if (get_num_photons(dst_fname + '.h5') >= photons_per_point):\n",
    "                    print(\"  Simulation run previously, so skipping ...\")\n",
    "                    continue\n",
    "                else:\n",
    "                    print(\"  Simulation run previously with less events, so re-running ...\")\n",
    "\n",
    "            # Preparing this position to be simulated\n",
    "            make_init_file(det_name, init_fname, config_fname)\n",
    "            \n",
    "            make_config_file(det_name, config_fname, dst_fname,\n",
    "                             pos[0], pos[1], pos[2],\n",
    "                             photons_per_event)\n",
    "            \n",
    "            # Adding file names to be run\n",
    "            init_fnames += [init_fname]\n",
    "            log_fnames  += [log_fname]\n",
    "            \n",
    "        # Launching simulation job\n",
    "        if(len(init_fnames)):\n",
    "            print(f\"* Submitting job {job_id} with {len(init_fnames)} points\\n\")\n",
    "            run_sims(init_fnames, log_fnames, events_per_point)\n",
    "        else:\n",
    "            print(f\"* Job {job_id} with no points, so skipped\\n\")"
   ]
  },
  {
   "cell_type": "code",
   "execution_count": null,
   "metadata": {},
   "outputs": [],
   "source": []
  },
  {
   "cell_type": "markdown",
   "metadata": {},
   "source": [
    "# TABLE GENERATION"
   ]
  },
  {
   "cell_type": "code",
   "execution_count": null,
   "metadata": {},
   "outputs": [],
   "source": [
    "if GENERATE_TABLE:\n",
    "\n",
    "    dimensions = get_detector_dimensions(det_name)\n",
    "    light_table_fname = table_path + get_table_fname(det_name, table_type,\n",
    "                                                     signal_type, sensor_name)\n",
    "    \n",
    "    # Light Table\n",
    "    light_table = build_table(det_name, table_type, signal_type, sensor_name, pitch)\n",
    "    \n",
    "    light_table.to_hdf(light_table_fname, '/LightTable', mode   = 'w',\n",
    "                       format = 'table', data_columns = True)\n",
    "\n",
    "    # Config Table\n",
    "    config_columns =  ['parameter', 'value']\n",
    "\n",
    "    config_data    = [['detector' ,            det_name],\n",
    "                      ['ACTIVE_rad',           str(dimensions['ACTIVE_radius'])],\n",
    "                      ['ACTIVE_length',        str(dimensions['ACTIVE_length'])],\n",
    "                      ['EL_GAP',               str(dimensions['EL_gap'])],\n",
    "                      ['reference_sensor_id',  str(dimensions['ref_sensor'][0])],\n",
    "                      ['table_type',           table_type],\n",
    "                      ['signal_type',          signal_type],\n",
    "                      ['sensor',               sensor_name],\n",
    "                      ['pitch_x',              str(pitch[0])],\n",
    "                      ['pitch_y',              str(pitch[1])],\n",
    "                      ['pitch_z',              str(pitch[2])],\n",
    "                      ['photons_per_point',    str(photons_per_point)],\n",
    "                      ['photons_per_event',    str(photons_per_event)],\n",
    "                      ['events_per_point',     str(events_per_point)],\n",
    "                      ['total_points',         str(num_points)],\n",
    "                      ['table_path',           table_path],\n",
    "                      ['dst_path',             dst_path],\n",
    "                      ['config_path',          config_path],\n",
    "                      ['log_path',             log_path]]\n",
    "\n",
    "    config_table = pd.DataFrame(config_data, columns = config_columns)\n",
    "    config_table.set_index(\"parameter\", inplace = True)\n",
    "    \n",
    "    config_table.to_hdf(light_table_fname, '/Config', mode   = 'a',\n",
    "                        format = 'table', data_columns = True)\n",
    "\n",
    "    # Verbosing\n",
    "    print(f\"\\n*** Storing Light Table in {light_table_fname} ...\\n\")"
   ]
  },
  {
   "cell_type": "code",
   "execution_count": null,
   "metadata": {},
   "outputs": [],
   "source": []
  }
 ],
 "metadata": {
  "kernelspec": {
   "display_name": "Python 3",
   "language": "python",
   "name": "python3"
  },
  "language_info": {
   "codemirror_mode": {
    "name": "ipython",
    "version": 3
   },
   "file_extension": ".py",
   "mimetype": "text/x-python",
   "name": "python",
   "nbconvert_exporter": "python",
   "pygments_lexer": "ipython3",
   "version": "3.7.1"
  }
 },
 "nbformat": 4,
 "nbformat_minor": 2
}
